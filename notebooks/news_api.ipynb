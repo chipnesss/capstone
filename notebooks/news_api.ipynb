{
 "cells": [
  {
   "cell_type": "markdown",
   "metadata": {},
   "source": [
    "## General API call passing list of stock tickers through"
   ]
  },
  {
   "cell_type": "code",
   "execution_count": null,
   "metadata": {},
   "outputs": [],
   "source": [
    "import pandas as pd\n",
    "%store -r x_rapidapi_key"
   ]
  },
  {
   "cell_type": "code",
   "execution_count": null,
   "metadata": {},
   "outputs": [],
   "source": [
    "# reading in variable DF from main notebook\n",
    "%store -r top_5_by_weight\n",
    "\n",
    "top_5_list = top_5_by_weight['Symbol'].tolist()\n",
    "top_5_list = ', '.join(top_5_list)\n",
    "top_5_list"
   ]
  },
  {
   "cell_type": "code",
   "execution_count": null,
   "metadata": {},
   "outputs": [],
   "source": [
    "import requests\n",
    "url = \"https://apidojo-yahoo-finance-v1.p.rapidapi.com/auto-complete\"\n",
    "\n",
    "querystring = {\"q\":top_5_list,\"region\":\"US\"}\n",
    "\n",
    "headers = {\n",
    "    'x-rapidapi-key': x_rapidapi_key,\n",
    "    'x-rapidapi-host': \"apidojo-yahoo-finance-v1.p.rapidapi.com\"\n",
    "    }\n",
    "\n",
    "auto_response = requests.request(\"GET\", url, headers=headers, params=querystring)\n",
    "auto_response = auto_response.json()"
   ]
  },
  {
   "cell_type": "code",
   "execution_count": null,
   "metadata": {},
   "outputs": [],
   "source": [
    "auto_response"
   ]
  },
  {
   "cell_type": "code",
   "execution_count": null,
   "metadata": {},
   "outputs": [],
   "source": [
    "news_uuids = []\n",
    "\n",
    "for ids in auto_response['news']:\n",
    "    uuid = ids['uuid']\n",
    "    news_uuids.append(uuid)\n",
    "\n",
    "news_uuids"
   ]
  },
  {
   "cell_type": "code",
   "execution_count": null,
   "metadata": {},
   "outputs": [],
   "source": [
    "news_uuids = ', '.join(news_uuids)\n",
    "news_uuids"
   ]
  },
  {
   "cell_type": "code",
   "execution_count": null,
   "metadata": {},
   "outputs": [],
   "source": [
    "url = \"https://apidojo-yahoo-finance-v1.p.rapidapi.com/news/v2/get-details\"\n",
    "\n",
    "querystring = {\"uuid\":news_uuids,\"region\":\"US\"}\n",
    "\n",
    "headers = {\n",
    "    'x-rapidapi-key': x_rapidapi_key,\n",
    "    'x-rapidapi-host': \"apidojo-yahoo-finance-v1.p.rapidapi.com\"\n",
    "    }\n",
    "\n",
    "news_response = requests.request(\"GET\", url, headers=headers, params=querystring)"
   ]
  },
  {
   "cell_type": "code",
   "execution_count": null,
   "metadata": {
    "scrolled": true
   },
   "outputs": [],
   "source": [
    "news_response = news_response.json()\n",
    "news_response"
   ]
  },
  {
   "cell_type": "code",
   "execution_count": null,
   "metadata": {},
   "outputs": [],
   "source": [
    "news_articles_list = []\n",
    "\n",
    "for articles in news_response['data']['contents']:\n",
    "    article_provider = articles['content']['provider']['displayName']\n",
    "    article_title = articles['content']['title']\n",
    "    article_summary = articles['content']['summary']\n",
    "    news_articles_list.append({'title': article_title, 'source': article_provider, 'summary': article_summary})\n",
    "    \n",
    "    \n",
    "news_articles_list"
   ]
  },
  {
   "cell_type": "code",
   "execution_count": null,
   "metadata": {},
   "outputs": [],
   "source": [
    "news_articles_df = pd.DataFrame(news_articles_list)\n",
    "%store news_articles_df"
   ]
  },
  {
   "cell_type": "code",
   "execution_count": null,
   "metadata": {},
   "outputs": [],
   "source": [
    "print('finished')"
   ]
  }
 ],
 "metadata": {
  "kernelspec": {
   "display_name": "Python 3",
   "language": "python",
   "name": "python3"
  },
  "language_info": {
   "codemirror_mode": {
    "name": "ipython",
    "version": 3
   },
   "file_extension": ".py",
   "mimetype": "text/x-python",
   "name": "python",
   "nbconvert_exporter": "python",
   "pygments_lexer": "ipython3",
   "version": "3.8.5"
  }
 },
 "nbformat": 4,
 "nbformat_minor": 4
}

{
 "cells": [
  {
   "cell_type": "markdown",
   "metadata": {},
   "source": [
    "# TD Ameritrade Dashboard"
   ]
  },
  {
   "cell_type": "markdown",
   "metadata": {},
   "source": [
    "#### Import Statements & Importing Variables from config.ipynb"
   ]
  },
  {
   "cell_type": "code",
   "execution_count": null,
   "metadata": {
    "slideshow": {
     "slide_type": "skip"
    }
   },
   "outputs": [],
   "source": [
    "# from config import consumer_key, redirect_uri, json_path\n",
    "# Jupyter Notebook Notation, pulling from 'config.ipynb'\n",
    "%store -r consumer_key\n",
    "%store -r redirect_uri\n",
    "%store -r json_path\n",
    "import pprint\n",
    "from td.client import TDClient\n",
    "import platform\n",
    "import pandas as pd\n",
    "import numpy as np"
   ]
  },
  {
   "cell_type": "markdown",
   "metadata": {},
   "source": [
    "#### Assigned variable json_path from config.ipynb. The variable decides a file path based on operating system. I have two computers, one Mac and one PC. So the file paths are dependent on which computer I am on."
   ]
  },
  {
   "cell_type": "code",
   "execution_count": null,
   "metadata": {
    "slideshow": {
     "slide_type": "skip"
    }
   },
   "outputs": [],
   "source": [
    "json_path"
   ]
  },
  {
   "cell_type": "markdown",
   "metadata": {},
   "source": [
    "#### Collecting API Token"
   ]
  },
  {
   "cell_type": "code",
   "execution_count": null,
   "metadata": {},
   "outputs": [],
   "source": [
    "# Create a new instance of the client\n",
    "td_client = TDClient(client_id = consumer_key, redirect_uri = redirect_uri, credentials_path = json_path)"
   ]
  },
  {
   "cell_type": "code",
   "execution_count": null,
   "metadata": {},
   "outputs": [],
   "source": [
    "# Log in to a new session -- every 90 days -- comment out to avoid it autorunning with kernel restart\n",
    "td_client.login()"
   ]
  },
  {
   "cell_type": "markdown",
   "metadata": {},
   "source": [
    "#### Build dictionaries with values based on current account values"
   ]
  },
  {
   "cell_type": "code",
   "execution_count": null,
   "metadata": {},
   "outputs": [],
   "source": [
    "# Get current quotes\n",
    "# quotes_response = td_client.get_quotes(instruments = ['msft', 'aapl','sq','iipr'])\n",
    "# quotes_response"
   ]
  },
  {
   "cell_type": "code",
   "execution_count": null,
   "metadata": {},
   "outputs": [],
   "source": [
    "# Orders and Positions for account(s)\n",
    "orders_and_positions = td_client.get_accounts(account = 'all', fields = ['orders', 'positions'])\n",
    "# pprint.pprint(len(orders_and_positions))\n",
    "orders_and_positions"
   ]
  },
  {
   "cell_type": "code",
   "execution_count": null,
   "metadata": {},
   "outputs": [],
   "source": [
    "# # Collect all Orders and Positions for account(s)\n",
    "# # Orders and Positions for account(s)\n",
    "# orders_and_positions = td_client.get_accounts(account = 'all', fields = [])\n",
    "# # pprint.pprint(len(orders_and_positions))\n",
    "# orders_and_positions"
   ]
  },
  {
   "cell_type": "markdown",
   "metadata": {},
   "source": [
    "#### Assigning account positions to proper lists in order to build out account DataFrames "
   ]
  },
  {
   "cell_type": "code",
   "execution_count": null,
   "metadata": {},
   "outputs": [],
   "source": [
    "stock_list = []\n",
    "cash = []\n",
    "for position in orders_and_positions[0]['securitiesAccount']['positions']:\n",
    "    symbol = position['instrument']['symbol']\n",
    "    if symbol != 'MMDA1':\n",
    "        symbol = position['instrument']['symbol']\n",
    "        quantity = position['longQuantity']\n",
    "        search_instruments = td_client.search_instruments(symbol = symbol, projection = 'fundamental')\n",
    "        quotes_response = td_client.get_quotes(instruments = [symbol])\n",
    "        mark = quotes_response[symbol]['mark']\n",
    "        beta = search_instruments[symbol]['fundamental']['beta']\n",
    "#         print('+++++++++++++')\n",
    "#         print('Market Value')\n",
    "#         print(symbol + ' ' + '$' + str(quantity*mark) + ', ' + 'Beta of ' + str(beta))\n",
    "        stock_list.append({'Symbol':symbol, 'Quantity':quantity, 'Mark':mark, 'Beta':beta})\n",
    "        \n",
    "    else:\n",
    "        symbol = position['instrument']['symbol']\n",
    "        quantity = position['longQuantity']\n",
    "        mark = np.nan\n",
    "        beta = np.nan\n",
    "#         print('+++++++++++++')\n",
    "#         print(symbol + ' ' + '$' + str(quantity))\n",
    "        cash.append({'Symbol':symbol, 'Quantity':quantity, 'Mark':mark, 'Beta':beta})"
   ]
  },
  {
   "cell_type": "markdown",
   "metadata": {},
   "source": [
    "#### Building out DataFrames with lists built above"
   ]
  },
  {
   "cell_type": "code",
   "execution_count": null,
   "metadata": {
    "scrolled": true
   },
   "outputs": [],
   "source": [
    "stocks = pd.DataFrame(stock_list)\n",
    "beta_drop = pd.DataFrame(stock_list)\n",
    "# Adding Value as a column to calculate the position value\n",
    "stocks['Value'] = stocks['Quantity']*stocks['Mark']\n",
    "\n",
    "cash = pd.DataFrame(cash)\n",
    "\n",
    "portfolio = [stocks, cash]\n",
    "portfolio = pd.concat(portfolio).reset_index().drop(['index'], axis = 1)\n",
    "portfolio"
   ]
  },
  {
   "cell_type": "markdown",
   "metadata": {},
   "source": [
    "#### Finding Beta values == 0, and replacing them with the mean beta calculated from all other Beta values excluding those positions with values equal to a Beta of 0"
   ]
  },
  {
   "cell_type": "code",
   "execution_count": null,
   "metadata": {},
   "outputs": [],
   "source": [
    "drop = beta_drop[beta_drop['Beta']==0].index\n",
    "beta_drop.drop(drop, inplace = True)\n",
    "average_beta = beta_drop.Beta.mean()\n",
    "stocks.loc[stocks.Beta == 0, 'Beta'] = average_beta\n",
    "stocks"
   ]
  },
  {
   "cell_type": "markdown",
   "metadata": {},
   "source": [
    "#### Taking a look at account values DataFrame"
   ]
  },
  {
   "cell_type": "code",
   "execution_count": null,
   "metadata": {},
   "outputs": [],
   "source": [
    "stocks_value = round(sum(stocks['Value']),2)\n",
    "cash_value = round(cash.iloc[0,1],2)\n",
    "account_value = round((stocks_value + cash_value),2)\n",
    "\n",
    "account_values = [{'Stocks':stocks_value, 'Cash':cash_value, 'Account Total': account_value, 'Account Beta': average_beta}]\n",
    "account_values = pd.DataFrame(account_values)\n",
    "account_values"
   ]
  },
  {
   "cell_type": "code",
   "execution_count": null,
   "metadata": {},
   "outputs": [],
   "source": [
    "# search_instruments = td_client.search_instruments(symbol = 'IIPR', projection = 'fundamental')\n",
    "# search_instruments"
   ]
  },
  {
   "cell_type": "code",
   "execution_count": null,
   "metadata": {},
   "outputs": [],
   "source": [
    "# symbol_selection = orders_and_positions[0]['securitiesAccount']['positions'][0]['instrument']['symbol']\n",
    "# quantity = orders_and_positions[0]['securitiesAccount']['positions'][0]['longQuantity']\n",
    "# mark = quotes_response['IIPR']['mark']\n",
    "# beta = search_instruments['IIPR']['fundamental']['beta']\n",
    "\n",
    "# print('Market Value')\n",
    "# print(symbol_selection + ' ' + '$' + str(quantity*mark) + ', ' + 'Beta of ' + str(beta))\n"
   ]
  },
  {
   "cell_type": "code",
   "execution_count": null,
   "metadata": {},
   "outputs": [],
   "source": [
    "# Returns wether a market is open or close on certain days\n",
    "# market_hours = td_client.get_market_hours(markets = ['BOND', 'EQUITY'], date = '2021-3-29')\n",
    "# pprint.pprint(market_hours)"
   ]
  },
  {
   "cell_type": "code",
   "execution_count": null,
   "metadata": {},
   "outputs": [],
   "source": []
  }
 ],
 "metadata": {
  "kernelspec": {
   "display_name": "Python 3",
   "language": "python",
   "name": "python3"
  },
  "language_info": {
   "codemirror_mode": {
    "name": "ipython",
    "version": 3
   },
   "file_extension": ".py",
   "mimetype": "text/x-python",
   "name": "python",
   "nbconvert_exporter": "python",
   "pygments_lexer": "ipython3",
   "version": "3.8.5"
  }
 },
 "nbformat": 4,
 "nbformat_minor": 4
}

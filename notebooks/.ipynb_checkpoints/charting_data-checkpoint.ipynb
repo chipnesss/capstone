{
 "cells": [
  {
   "cell_type": "code",
   "execution_count": null,
   "metadata": {},
   "outputs": [],
   "source": [
    "# imports\n",
    "import pandas as pd\n",
    "import datetime as dt\n",
    "from td.client import TDClient\n",
    "import matplotlib.pyplot as plt\n",
    "%matplotlib inline\n",
    "\n",
    "%store -r ticker_list\n",
    "%store -r today\n",
    "%store -r tomorrow\n",
    "%store -r consumer_key\n",
    "%store -r redirect_uri\n",
    "%store -r json_path"
   ]
  },
  {
   "cell_type": "code",
   "execution_count": null,
   "metadata": {},
   "outputs": [],
   "source": [
    "# Authentication\n",
    "\n",
    "# Create a new instance of the client\n",
    "td_client = TDClient(client_id = consumer_key, redirect_uri = redirect_uri, credentials_path = json_path)"
   ]
  },
  {
   "cell_type": "code",
   "execution_count": null,
   "metadata": {},
   "outputs": [],
   "source": [
    "# # One Minute Chart\n",
    "chart_data = []\n",
    "for stock_tickers in ticker_list:\n",
    "    ticker_symbol = stock_tickers\n",
    "    minute_chart = td_client.get_price_history(symbol = stock_tickers, period_type = 'day',  frequency_type = 'minute',\n",
    "                                          frequency = 1, start_date = today, end_date = tomorrow, extended_hours = False)\n",
    "    chart_data.append({'Ticker Symbol': ticker_symbol, 'Minute Chart Data': minute_chart})\n",
    "    print(stock_tickers + ' collected')"
   ]
  },
  {
   "cell_type": "code",
   "execution_count": null,
   "metadata": {},
   "outputs": [],
   "source": [
    "chart_df = pd.DataFrame(chart_data)\n",
    "chart_df"
   ]
  },
  {
   "cell_type": "code",
   "execution_count": null,
   "metadata": {},
   "outputs": [],
   "source": [
    "chart_df[['Candles', 'Symbol', 'Empty']] = chart_df['Minute Chart Data'].apply(pd.Series)\n",
    "chart_df = chart_df[:-1]"
   ]
  },
  {
   "cell_type": "code",
   "execution_count": null,
   "metadata": {},
   "outputs": [],
   "source": [
    "chart_df"
   ]
  },
  {
   "cell_type": "code",
   "execution_count": null,
   "metadata": {},
   "outputs": [],
   "source": [
    "dataframes_list = []\n",
    "counter = 0\n",
    "for tickers in chart_df.index:\n",
    "    individual_df = pd.DataFrame(chart_df.loc[counter,'Candles'])\n",
    "    individual_df['Symbol'] = chart_df.loc[counter, 'Ticker Symbol']\n",
    "    dataframes_list.append(individual_df)\n",
    "    counter += 1"
   ]
  },
  {
   "cell_type": "code",
   "execution_count": null,
   "metadata": {},
   "outputs": [],
   "source": [
    "# dataframes_list\n",
    "charting_data = pd.concat(dataframes_list)\n",
    "charting_data = charting_data.reset_index(drop = True)\n",
    "charting_data"
   ]
  },
  {
   "cell_type": "code",
   "execution_count": null,
   "metadata": {
    "scrolled": false
   },
   "outputs": [],
   "source": [
    "# converting epoch time into datetime and timestamp\n",
    "counter = 0\n",
    "for datetimes in charting_data['datetime']:\n",
    "    newtime = dt.datetime.fromtimestamp(datetimes/1000)\n",
    "    charting_data['datetime'][counter] = newtime\n",
    "    counter += 1\n",
    "charting_data"
   ]
  },
  {
   "cell_type": "code",
   "execution_count": null,
   "metadata": {
    "scrolled": true
   },
   "outputs": [],
   "source": [
    "%store -r total_value\n",
    "charting_data = charting_data.sort_values(by = 'datetime')\n",
    "charting_data['difference'] = charting_data['close'] - charting_data['open']"
   ]
  },
  {
   "cell_type": "code",
   "execution_count": null,
   "metadata": {
    "scrolled": true
   },
   "outputs": [],
   "source": [
    "portfolio_values =[]\n",
    "for dif in charting_data['difference'].to_list():\n",
    "    portfolio_values.append(round(total_value, 2))\n",
    "    total_value += dif"
   ]
  },
  {
   "cell_type": "code",
   "execution_count": null,
   "metadata": {},
   "outputs": [],
   "source": [
    "# portfolio_values[-1]"
   ]
  },
  {
   "cell_type": "code",
   "execution_count": null,
   "metadata": {},
   "outputs": [],
   "source": [
    "# portfolio_pct_chg = (portfolio_values[-1]-portfolio_values[0])/portfolio_values[0]\n",
    "# portfolio_change = portfolio_pct_chg*100\n",
    "# portfolio_change"
   ]
  },
  {
   "cell_type": "code",
   "execution_count": null,
   "metadata": {},
   "outputs": [],
   "source": [
    "# pct_chg_dict = {'Symbol': 'Portfolio', 'Percent Change': portfolio_change}\n",
    "# pct_chg_dict\n",
    "# %store pct_chg_dict"
   ]
  },
  {
   "cell_type": "code",
   "execution_count": null,
   "metadata": {},
   "outputs": [],
   "source": [
    "portfolio_df = charting_data['datetime'].to_frame()\n",
    "portfolio_df['Symbol'] = 'Portfolio'\n",
    "portfolio_df['close'] = portfolio_values\n",
    "charting_data = pd.concat([charting_data, portfolio_df])\n"
   ]
  },
  {
   "cell_type": "code",
   "execution_count": null,
   "metadata": {},
   "outputs": [],
   "source": [
    "charting_data = charting_data.reset_index(drop = True)"
   ]
  },
  {
   "cell_type": "code",
   "execution_count": null,
   "metadata": {},
   "outputs": [],
   "source": [
    "# doubled_values = portfolio_values + portfolio_values\n",
    "# doubled_values = doubled_values.sorted_values()\n",
    "# # len(charting_data)\n",
    "# # len(portfolio_values+portfolio_values)"
   ]
  },
  {
   "cell_type": "code",
   "execution_count": null,
   "metadata": {},
   "outputs": [],
   "source": [
    "# plt.plot(charting_data['datetime'], )"
   ]
  },
  {
   "cell_type": "code",
   "execution_count": null,
   "metadata": {},
   "outputs": [],
   "source": [
    "# Variables Exports\n",
    "\n",
    "%store charting_data"
   ]
  }
 ],
 "metadata": {
  "kernelspec": {
   "display_name": "Python 3",
   "language": "python",
   "name": "python3"
  },
  "language_info": {
   "codemirror_mode": {
    "name": "ipython",
    "version": 3
   },
   "file_extension": ".py",
   "mimetype": "text/x-python",
   "name": "python",
   "nbconvert_exporter": "python",
   "pygments_lexer": "ipython3",
   "version": "3.8.5"
  }
 },
 "nbformat": 4,
 "nbformat_minor": 4
}

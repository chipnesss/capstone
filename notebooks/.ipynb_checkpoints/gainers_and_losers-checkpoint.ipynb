{
 "cells": [
  {
   "cell_type": "code",
   "execution_count": null,
   "metadata": {},
   "outputs": [],
   "source": [
    "import pandas as pd\n",
    "import requests\n",
    "from td.client import TDClient\n",
    "\n",
    "\n",
    "%store -r ticker_list\n",
    "%store -r stocks\n",
    "%store -r consumer_key\n",
    "%store -r redirect_uri\n",
    "%store -r json_path"
   ]
  },
  {
   "cell_type": "code",
   "execution_count": null,
   "metadata": {},
   "outputs": [],
   "source": [
    "# Create a new instance of the client\n",
    "td_client = TDClient(client_id = consumer_key, redirect_uri = redirect_uri, credentials_path = json_path)"
   ]
  },
  {
   "cell_type": "code",
   "execution_count": null,
   "metadata": {
    "scrolled": true
   },
   "outputs": [],
   "source": [
    "quotes = td_client.get_quotes(instruments = ticker_list[:-1])"
   ]
  },
  {
   "cell_type": "code",
   "execution_count": null,
   "metadata": {},
   "outputs": [],
   "source": [
    "pct_change_list = []\n",
    "for elements in quotes:\n",
    "    pct_change = quotes[elements]['regularMarketPercentChangeInDouble']\n",
    "    symbol = elements\n",
    "    pct_change_list.append({'Percent Change': pct_change, 'Symbol':symbol})\n",
    "pct_change_list"
   ]
  },
  {
   "cell_type": "code",
   "execution_count": null,
   "metadata": {
    "scrolled": true
   },
   "outputs": [],
   "source": [
    "%store -r pct_chg_dict\n",
    "\n",
    "# pct_change_list.append(pct_chg_dict)\n"
   ]
  },
  {
   "cell_type": "code",
   "execution_count": null,
   "metadata": {},
   "outputs": [],
   "source": [
    "pct_change_list"
   ]
  },
  {
   "cell_type": "code",
   "execution_count": null,
   "metadata": {},
   "outputs": [],
   "source": [
    "gainers_losers = pd.DataFrame(pct_change_list)\n",
    "gainers_losers"
   ]
  },
  {
   "cell_type": "code",
   "execution_count": null,
   "metadata": {},
   "outputs": [],
   "source": [
    "%store gainers_losers"
   ]
  },
  {
   "cell_type": "code",
   "execution_count": null,
   "metadata": {},
   "outputs": [],
   "source": [
    "gainers_losers_sorted = gainers_losers.sort_values(by =  'Percent Change',ascending = False)\n",
    "gainers_losers_sorted"
   ]
  },
  {
   "cell_type": "code",
   "execution_count": null,
   "metadata": {},
   "outputs": [],
   "source": [
    "top_3 = gainers_losers_sorted.head(3)\n",
    "bottom_3 = gainers_losers_sorted.tail(3)\n",
    "bottom_3"
   ]
  },
  {
   "cell_type": "code",
   "execution_count": null,
   "metadata": {},
   "outputs": [],
   "source": [
    "%store top_3\n",
    "%store bottom_3"
   ]
  }
 ],
 "metadata": {
  "kernelspec": {
   "display_name": "Python 3",
   "language": "python",
   "name": "python3"
  },
  "language_info": {
   "codemirror_mode": {
    "name": "ipython",
    "version": 3
   },
   "file_extension": ".py",
   "mimetype": "text/x-python",
   "name": "python",
   "nbconvert_exporter": "python",
   "pygments_lexer": "ipython3",
   "version": "3.8.5"
  }
 },
 "nbformat": 4,
 "nbformat_minor": 4
}

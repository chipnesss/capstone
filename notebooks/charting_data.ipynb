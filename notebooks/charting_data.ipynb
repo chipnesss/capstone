{
 "cells": [
  {
   "cell_type": "code",
   "execution_count": null,
   "metadata": {},
   "outputs": [],
   "source": [
    "# imports\n",
    "import pandas as pd\n",
    "import datetime as dt\n",
    "from td.client import TDClient\n",
    "\n",
    "%store -r ticker_list\n",
    "%store -r today\n",
    "%store -r tomorrow\n",
    "%store -r consumer_key\n",
    "%store -r redirect_uri\n",
    "%store -r json_path"
   ]
  },
  {
   "cell_type": "code",
   "execution_count": null,
   "metadata": {},
   "outputs": [],
   "source": [
    "# Authentication\n",
    "\n",
    "# Create a new instance of the client\n",
    "td_client = TDClient(client_id = consumer_key, redirect_uri = redirect_uri, credentials_path = json_path)"
   ]
  },
  {
   "cell_type": "code",
   "execution_count": null,
   "metadata": {},
   "outputs": [],
   "source": [
    "# # One Minute Chart\n",
    "chart_data = []\n",
    "for stock_tickers in ticker_list:\n",
    "    ticker_symbol = stock_tickers\n",
    "    minute_chart = td_client.get_price_history(symbol = stock_tickers, period_type = 'day',  frequency_type = 'minute',\n",
    "                                          frequency = 1, start_date = today, end_date = tomorrow, extended_hours = True)\n",
    "    chart_data.append({'Ticker Symbol': ticker_symbol, 'Minute Chart Data': minute_chart})\n",
    "    print(stock_tickers + ' collected')"
   ]
  },
  {
   "cell_type": "code",
   "execution_count": null,
   "metadata": {},
   "outputs": [],
   "source": [
    "chart_df = pd.DataFrame(chart_data)\n",
    "chart_df"
   ]
  },
  {
   "cell_type": "code",
   "execution_count": null,
   "metadata": {},
   "outputs": [],
   "source": [
    "chart_df[['Candles', 'Symbol', 'Empty']] = chart_df['Minute Chart Data'].apply(pd.Series)\n",
    "chart_df = chart_df[:-1]"
   ]
  },
  {
   "cell_type": "code",
   "execution_count": null,
   "metadata": {},
   "outputs": [],
   "source": [
    "chart_df[['Candles', 'Symbol', 'Empty']] = chart_df['Minute Chart Data'].apply(pd.Series)\n",
    "chart_df = chart_df[:-1]\n",
    "chart_df"
   ]
  },
  {
   "cell_type": "code",
   "execution_count": null,
   "metadata": {},
   "outputs": [],
   "source": [
    "dataframes_list = []\n",
    "counter = 0\n",
    "for tickers in chart_df.index:\n",
    "    individual_df = pd.DataFrame(chart_df.loc[counter,'Candles'])\n",
    "    individual_df['Symbol'] = chart_df.loc[counter, 'Ticker Symbol']\n",
    "    dataframes_list.append(individual_df)\n",
    "    counter += 1"
   ]
  },
  {
   "cell_type": "code",
   "execution_count": null,
   "metadata": {},
   "outputs": [],
   "source": [
    "# dataframes_list\n",
    "charting_data = pd.concat(dataframes_list)\n",
    "charting_data = charting_data.reset_index(drop = True)\n",
    "charting_data"
   ]
  },
  {
   "cell_type": "code",
   "execution_count": null,
   "metadata": {},
   "outputs": [],
   "source": [
    "test = dt.datetime.fromtimestamp(1571005498)\n",
    "print(test)"
   ]
  },
  {
   "cell_type": "code",
   "execution_count": null,
   "metadata": {},
   "outputs": [],
   "source": [
    "# converting epoch time into datetime and timestamp\n",
    "counter = 0\n",
    "for datetimes in charting_data['datetime']:\n",
    "    newtime = dt.datetime.fromtimestamp(datetimes/1000)\n",
    "    charting_data['datetime'][counter] = newtime\n",
    "    counter += 1\n",
    "charting_data"
   ]
  },
  {
   "cell_type": "code",
   "execution_count": null,
   "metadata": {},
   "outputs": [],
   "source": [
    "# Variables Exports\n",
    "\n",
    "%store charting_data"
   ]
  }
 ],
 "metadata": {
  "kernelspec": {
   "display_name": "Python 3",
   "language": "python",
   "name": "python3"
  },
  "language_info": {
   "codemirror_mode": {
    "name": "ipython",
    "version": 3
   },
   "file_extension": ".py",
   "mimetype": "text/x-python",
   "name": "python",
   "nbconvert_exporter": "python",
   "pygments_lexer": "ipython3",
   "version": "3.8.5"
  }
 },
 "nbformat": 4,
 "nbformat_minor": 4
}

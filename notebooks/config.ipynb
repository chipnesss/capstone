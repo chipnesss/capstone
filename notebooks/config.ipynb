{
 "cells": [
  {
   "cell_type": "code",
   "execution_count": null,
   "metadata": {},
   "outputs": [],
   "source": [
    "import platform\n",
    "import gspread\n",
    "from oauth2client.service_account import ServiceAccountCredentials\n",
    "from df2gspread import df2gspread as d2g\n",
    "import pandas as pd\n",
    "from oauth2client.service_account import ServiceAccountCredentials"
   ]
  },
  {
   "cell_type": "code",
   "execution_count": null,
   "metadata": {},
   "outputs": [],
   "source": [
    "# Selecting the file path based on which computer I am on  -- I have a mac and pc, so the selector is the \n",
    "# computer operating system\n",
    "\n",
    "operating_system = platform.system()\n",
    "\n",
    "if operating_system == 'Darwin':\n",
    "    json_path = '/Users/charleshubbard/data_analytics/streaming_test/TD_API/data/td_state.json'\n",
    "elif operating_system == 'Windows':\n",
    "    json_path = 'C:/Users/hubba/Documents/dev/TD_API/data/td_state.json'\n",
    "else:\n",
    "    json_path = ''\n",
    "\n",
    "operating_system\n"
   ]
  },
  {
   "cell_type": "code",
   "execution_count": null,
   "metadata": {},
   "outputs": [],
   "source": [
    "consumer_key = 'consumer key'\n",
    "redirect_uri = 'http://localhost/test'\n",
    "\n",
    "google_cloud_api_key = 'api key'\n",
    "scope = ['https://spreadsheets.google.com/feeds', 'https://www.googleapis.com/auth/drive']\n",
    "# credentials = ServiceAccountCredentials.from_json_keyfile_name('jsonFileFromGoogle.json', scopes=scope)\n",
    "# gc = gspread.authorize(credentials)\n",
    "spreadsheet_key = 'api key'\n",
    "\n",
    "password = 'PW'\n",
    "account_number = 'AN'\n",
    "client_id = 'CI'\n",
    "\n",
    "%store scope\n",
    "%store spreadsheet_key\n",
    "# These are non pickleable variables\n",
    "# %store credentials\n",
    "# %store gc\n",
    "%store google_cloud_api_key\n",
    "%store consumer_key\n",
    "%store redirect_uri\n",
    "%store json_path\n",
    "%store password\n",
    "%store account_number\n",
    "%store client_id"
   ]
  },
  {
   "cell_type": "code",
   "execution_count": null,
   "metadata": {},
   "outputs": [],
   "source": []
  },
  {
   "cell_type": "code",
   "execution_count": null,
   "metadata": {},
   "outputs": [],
   "source": []
  }
 ],
 "metadata": {
  "kernelspec": {
   "display_name": "Python 3",
   "language": "python",
   "name": "python3"
  },
  "language_info": {
   "codemirror_mode": {
    "name": "ipython",
    "version": 3
   },
   "file_extension": ".py",
   "mimetype": "text/x-python",
   "name": "python",
   "nbconvert_exporter": "python",
   "pygments_lexer": "ipython3",
   "version": "3.8.5"
  }
 },
 "nbformat": 4,
 "nbformat_minor": 4
}
